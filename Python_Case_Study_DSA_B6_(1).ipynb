{
  "cells": [
    {
      "cell_type": "markdown",
      "metadata": {
        "id": "zVV_KMSIUG-A"
      },
      "source": [
        "# Answer the following questions using only builtin Python datatypes and functions. Do not use Numpy or Scipy (i.e. No library imports allowed)"
      ]
    },
    {
      "cell_type": "markdown",
      "metadata": {
        "id": "uZnK7VgWV5SI"
      },
      "source": [
        "# Q1. Write a function that return the range (maximum and minimun) of a given list of numbers"
      ]
    },
    {
      "cell_type": "code",
      "execution_count": 19,
      "metadata": {
        "id": "vuAbJQcOWAM7",
        "colab": {
          "base_uri": "https://localhost:8080/"
        },
        "outputId": "9d0576b1-3bc0-4787-d9e4-a25d4f0298ac"
      },
      "outputs": [
        {
          "output_type": "stream",
          "name": "stdout",
          "text": [
            "Minimum: 1\n",
            "Maximum: 9\n"
          ]
        }
      ],
      "source": [
        "def maxmin(my_list = [5,9,7,3,1]):\n",
        "    minimum = min(my_list)\n",
        "    maximum = max(my_list)\n",
        "    return minimum, maximum\n",
        "\n",
        "min_val, max_val = maxmin()\n",
        "\n",
        "print(\"Minimum:\", min_val)\n",
        "print(\"Maximum:\", max_val)\n"
      ]
    },
    {
      "cell_type": "markdown",
      "metadata": {
        "id": "Y5_v5a8_U1O-"
      },
      "source": [
        "## Q2. Write function that returns mean value of a list of numbers"
      ]
    },
    {
      "cell_type": "code",
      "execution_count": 20,
      "metadata": {
        "id": "RajjEyacU7Sc",
        "colab": {
          "base_uri": "https://localhost:8080/"
        },
        "outputId": "6f6caa10-38f6-4406-ae75-723888785d11"
      },
      "outputs": [
        {
          "output_type": "stream",
          "name": "stdout",
          "text": [
            "Mean: 5.0\n"
          ]
        }
      ],
      "source": [
        "def mean(my_list = [5,9,7,3,1]):\n",
        "    return sum(my_list)/len(my_list)\n",
        "\n",
        "mean_val = mean()\n",
        "print(\"Mean:\", mean_val)"
      ]
    },
    {
      "cell_type": "markdown",
      "metadata": {
        "id": "OpeRxoEoVTIP"
      },
      "source": [
        "# Q3. Write a function that returns the median value of a list of numbers"
      ]
    },
    {
      "cell_type": "code",
      "execution_count": 24,
      "metadata": {
        "id": "u1CUy0UOVaQi",
        "colab": {
          "base_uri": "https://localhost:8080/"
        },
        "outputId": "53bb43dd-d955-4923-c27f-bf16d8c71580"
      },
      "outputs": [
        {
          "output_type": "stream",
          "name": "stdout",
          "text": [
            "Median: 5\n"
          ]
        }
      ],
      "source": [
        "def median(my_list = [5,9,7,3,1]):\n",
        "    sorted_list = sorted(my_list)\n",
        "    n = len(sorted_list)\n",
        "    if n % 2 == 0:\n",
        "        median = (sorted_list[n//2 - 1] + sorted_list[n//2]) / 2\n",
        "        return median\n",
        "    else:\n",
        "        median = sorted_list[n//2]\n",
        "        return median\n",
        "\n",
        "median_val = median()\n",
        "print(\"Median:\", median_val)"
      ]
    },
    {
      "cell_type": "markdown",
      "metadata": {
        "id": "2EMOG7AZSqVn"
      },
      "source": [
        "## Q4. Write a function to return the mod of a list of numbers, if no mod exists, it should return None. If more than one mod exist, return the mod values as list"
      ]
    },
    {
      "cell_type": "code",
      "execution_count": 32,
      "metadata": {
        "id": "qnMm2dhhSk3-"
      },
      "outputs": [],
      "source": [
        "from collections import Counter\n",
        "\n",
        "def find_mode(numbers):\n",
        "    if not numbers:\n",
        "        return None  # If list is empty\n",
        "\n",
        "    count = Counter(numbers)  # Count each number\n",
        "    max_freq = max(count.values())  # Highest frequency\n",
        "\n",
        "    if max_freq == 1:\n",
        "        return None  # All numbers occur only once\n",
        "\n",
        "    modes = [num for num, freq in count.items() if freq == max_freq]\n",
        "\n",
        "    if len(modes) == 1:\n",
        "        return modes[0]  # Only one mode\n",
        "    else:\n",
        "        return modes     # Multiple modes\n"
      ]
    },
    {
      "cell_type": "markdown",
      "metadata": {
        "id": "LcqWwqtgTCiL"
      },
      "source": [
        "## Q5. Write function to compute a given percentile value (e.g. 90th percentile) of a list of numbers"
      ]
    },
    {
      "cell_type": "code",
      "execution_count": 38,
      "metadata": {
        "id": "Sn307h0TTb2b",
        "colab": {
          "base_uri": "https://localhost:8080/"
        },
        "outputId": "3b881695-6cd1-4f06-ded9-5d93fa7be8d7"
      },
      "outputs": [
        {
          "output_type": "stream",
          "name": "stdout",
          "text": [
            "90th percentile: 82.5\n"
          ]
        }
      ],
      "source": [
        "def percentile(num = [10,30,35,45,65,100]):\n",
        "    p=90\n",
        "    sorted_data = sorted(num)\n",
        "    n= len(sorted_data)\n",
        "    k = (p/100) * (n - 1)\n",
        "    f = int(k)\n",
        "    c = f + 1\n",
        "    if k.is_integer():\n",
        "        return sorted_data[int(k)]\n",
        "    else:\n",
        "        return sorted_data [f] + (sorted_data[c] - sorted_data[f]) * (k - f)\n",
        "\n",
        "percentile_value = percentile()\n",
        "print(\"90th percentile:\", percentile_value)"
      ]
    },
    {
      "cell_type": "markdown",
      "metadata": {
        "id": "N-TYHkDcWOfS"
      },
      "source": [
        "# Q6. Write a function that returns the lower bound of a list of numbers"
      ]
    },
    {
      "cell_type": "markdown",
      "source": [],
      "metadata": {
        "id": "IhlgMSO0d7Cu"
      }
    },
    {
      "cell_type": "code",
      "execution_count": 41,
      "metadata": {
        "id": "Y-RKPdKuW5nx",
        "colab": {
          "base_uri": "https://localhost:8080/"
        },
        "outputId": "5547d91c-a426-4e2c-d1ee-abf2601088fc"
      },
      "outputs": [
        {
          "output_type": "stream",
          "name": "stdout",
          "text": [
            "20\n"
          ]
        }
      ],
      "source": [
        "def lower_bound_percentile(numbers=[10,20,30,40,50]):\n",
        "    if not numbers:\n",
        "        return None\n",
        "\n",
        "    sorted_data = sorted(numbers)\n",
        "    n = len(sorted_data)\n",
        "    k = 0.25 * (n - 1)\n",
        "    f = int(k)\n",
        "    c = f + 1\n",
        "\n",
        "    if k.is_integer():\n",
        "        return sorted_data[int(k)]\n",
        "    else:\n",
        "        return sorted_data[f] + (sorted_data[c] - sorted_data[f]) * (k - f)\n",
        "print(lower_bound_percentile())\n"
      ]
    },
    {
      "cell_type": "markdown",
      "metadata": {
        "id": "5aHfaI_jThpX"
      },
      "source": [
        "## Q7. Write function to return any outliers from a given list of numbers, if no outliers present it should return None"
      ]
    },
    {
      "cell_type": "code",
      "execution_count": 44,
      "metadata": {
        "id": "gG6-qzT7T0Si",
        "colab": {
          "base_uri": "https://localhost:8080/"
        },
        "outputId": "b3cfab57-2115-492c-dfa9-5d98731261f0"
      },
      "outputs": [
        {
          "output_type": "stream",
          "name": "stdout",
          "text": [
            "Outliers: [500]\n"
          ]
        }
      ],
      "source": [
        "def outliers(numbers=[10,20,30,40,50,500]):\n",
        "    if not numbers:\n",
        "        return None\n",
        "    sorted_data = sorted(numbers)\n",
        "    n = len(sorted_data)\n",
        "\n",
        "    # Helper to calculate percentile\n",
        "    def percentile(p):\n",
        "        k = (p / 100) * (n - 1)\n",
        "        f = int(k)\n",
        "        c = f + 1\n",
        "        if k.is_integer():\n",
        "            return sorted_data[int(k)]\n",
        "        else:\n",
        "            return sorted_data[f] + (sorted_data[c] - sorted_data[f]) * (k - f)\n",
        "\n",
        "    q1 = percentile(25)\n",
        "    q3 = percentile(75)\n",
        "    iqr = q3 - q1\n",
        "\n",
        "    lower_limit = q1 - 1.5 * iqr\n",
        "    upper_limit = q3 + 1.5 * iqr\n",
        "\n",
        "    outliers = [x for x in numbers if x < lower_limit or x > upper_limit]\n",
        "\n",
        "    return outliers if outliers else None\n",
        "\n",
        "print(\"Outliers:\", outliers())\n"
      ]
    },
    {
      "cell_type": "markdown",
      "metadata": {
        "id": "jI9t-tcDT5EK"
      },
      "source": [
        "##Q8. Write a function to return standard deviation of a list of numbers"
      ]
    },
    {
      "cell_type": "code",
      "execution_count": 48,
      "metadata": {
        "id": "MMU_cMlLUFxJ",
        "colab": {
          "base_uri": "https://localhost:8080/"
        },
        "outputId": "83fade4d-f0b5-46d0-9e00-00f8385a81c9"
      },
      "outputs": [
        {
          "output_type": "stream",
          "name": "stdout",
          "text": [
            "standard deviation 15.811388300841896\n"
          ]
        }
      ],
      "source": [
        "def standard_deviation(numbers=[10,20,30,40,50]):\n",
        "    if not numbers:\n",
        "        return None\n",
        "\n",
        "    mean = sum(numbers) / len(numbers)\n",
        "    squared_diffs = [(x - mean) ** 2 for x in numbers]\n",
        "    variance = sum(squared_diffs) / (len(numbers) - 1)  # sample variance\n",
        "    std_dev = variance ** 0.5\n",
        "    return std_dev\n",
        "print(\"standard deviation\", standard_deviation())"
      ]
    },
    {
      "cell_type": "markdown",
      "metadata": {
        "id": "LufmQDJPURkM"
      },
      "source": [
        "## Q9. Write function to compute and return Z-score values of a list of numbers"
      ]
    },
    {
      "cell_type": "code",
      "execution_count": 50,
      "metadata": {
        "id": "ml2qpSpFUYxV",
        "colab": {
          "base_uri": "https://localhost:8080/"
        },
        "outputId": "dcc95a6f-596b-4cc2-a421-3ad1a8b5c19e"
      },
      "outputs": [
        {
          "output_type": "stream",
          "name": "stdout",
          "text": [
            "Z-scores: [-1.2649110640673518, -0.6324555320336759, 0.0, 0.6324555320336759, 1.2649110640673518]\n"
          ]
        }
      ],
      "source": [
        "def z_scores(numbers =[ 10,20,30,40,50]):\n",
        "    if not numbers or len(numbers) < 2:\n",
        "        return None  # Need at least 2 values\n",
        "\n",
        "    # Step 1: Calculate mean\n",
        "    mean = sum(numbers) / len(numbers)\n",
        "\n",
        "    # Step 2: Calculate standard deviation (sample SD)\n",
        "    squared_diffs = [(x - mean) ** 2 for x in numbers]\n",
        "    variance = sum(squared_diffs) / (len(numbers) - 1)\n",
        "    std_dev = variance ** 0.5\n",
        "\n",
        "    # Step 3: Calculate Z-scores\n",
        "    z_scores_list = [(x - mean) / std_dev for x in numbers]\n",
        "\n",
        "    return z_scores_list\n",
        "print(\"Z-scores:\", z_scores())"
      ]
    },
    {
      "cell_type": "markdown",
      "metadata": {
        "id": "YQSNHIfxUb6s"
      },
      "source": [
        "## Q10. Write a function to compute and return the Pearson correlation coefficient value of two list of numbers"
      ]
    },
    {
      "cell_type": "code",
      "execution_count": 52,
      "metadata": {
        "id": "1YGqr3T6Uk6H",
        "colab": {
          "base_uri": "https://localhost:8080/"
        },
        "outputId": "c0e6594e-01b1-4c3a-c23a-c7463179e0b8"
      },
      "outputs": [
        {
          "output_type": "stream",
          "name": "stdout",
          "text": [
            "Pearson correlation coefficient: 1.0\n"
          ]
        }
      ],
      "source": [
        "def pearson_correlation(x, y):\n",
        "    if len(x) != len(y) or len(x) < 2:\n",
        "        return None\n",
        "    n = len(x)\n",
        "    mean_x = sum(x) / n\n",
        "    mean_y = sum(y) / n\n",
        "\n",
        "    numerator = sum((x[i] - mean_x) * (y[i] - mean_y) for i in range(n))\n",
        "    denominator_x = sum((x[i] - mean_x) ** 2 for i in range(n))\n",
        "    denominator_y = sum((y[i] - mean_y) ** 2 for i in range(n))\n",
        "    denominator = (denominator_x * denominator_y) ** 0.5\n",
        "\n",
        "    if denominator == 0:\n",
        "        return None\n",
        "\n",
        "    r = numerator / denominator\n",
        "    return r\n",
        "print(\"Pearson correlation coefficient:\", pearson_correlation([10,20,30,40,50], [10,20,30,40,50]))\n"
      ]
    }
  ],
  "metadata": {
    "colab": {
      "provenance": []
    },
    "kernelspec": {
      "display_name": "Python 3",
      "name": "python3"
    },
    "language_info": {
      "name": "python"
    }
  },
  "nbformat": 4,
  "nbformat_minor": 0
}